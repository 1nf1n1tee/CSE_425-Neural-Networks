{
  "nbformat": 4,
  "nbformat_minor": 0,
  "metadata": {
    "colab": {
      "provenance": [],
      "authorship_tag": "ABX9TyMykK+AUh0/bz8m5ERK92ZJ",
      "include_colab_link": true
    },
    "kernelspec": {
      "name": "python3",
      "display_name": "Python 3"
    },
    "language_info": {
      "name": "python"
    }
  },
  "cells": [
    {
      "cell_type": "markdown",
      "metadata": {
        "id": "view-in-github",
        "colab_type": "text"
      },
      "source": [
        "<a href=\"https://colab.research.google.com/github/1nf1n1tee/CSE_425-Neural-Networks/blob/main/CNN_From_scratch.ipynb\" target=\"_parent\"><img src=\"https://colab.research.google.com/assets/colab-badge.svg\" alt=\"Open In Colab\"/></a>"
      ]
    },
    {
      "cell_type": "code",
      "execution_count": 1,
      "metadata": {
        "id": "FkF0l0lWaVtd"
      },
      "outputs": [],
      "source": [
        "import numpy as np"
      ]
    },
    {
      "cell_type": "code",
      "source": [
        "rows_a = 5 #@param {type:\"integer\"}\n",
        "cols_a = 5 #@param {type:\"integer\"}\n",
        "rows_b = 5 #@param {type:\"integer\"}\n",
        "cols_b = 5 #@param {type:\"integer\"}\n",
        "\n",
        "a = np.random.randint(0, 1, size=(rows_a, cols_a))\n",
        "b = np.random.randint(0, 100, size=(rows_b, cols_b))\n",
        "\n",
        "print(\"Matrix a:\\n\", a)\n",
        "print(\"Matrix a:\\n\", a[0:3,0:3])\n",
        "print(\"\\nMatrix b:\\n\", b)\n"
      ],
      "metadata": {
        "colab": {
          "base_uri": "https://localhost:8080/"
        },
        "id": "MsKfsONNapUF",
        "outputId": "26025ba8-8f97-4e51-b063-9dd38d964bb5"
      },
      "execution_count": 35,
      "outputs": [
        {
          "output_type": "stream",
          "name": "stdout",
          "text": [
            "Matrix a:\n",
            " [[83 80 36 45 58]\n",
            " [91 73 24 84 69]\n",
            " [98 91 76 37 42]\n",
            " [96 53 30 11 74]\n",
            " [77 32 14 51 81]]\n",
            "Matrix a:\n",
            " [[83 80 36]\n",
            " [91 73 24]\n",
            " [98 91 76]]\n",
            "\n",
            "Matrix b:\n",
            " [[23 85 13 42 87]\n",
            " [51 34 54 75 38]\n",
            " [52 25 59 82 88]\n",
            " [35 21 68 30 17]\n",
            " [18 99 64 23 33]]\n"
          ]
        }
      ]
    },
    {
      "cell_type": "code",
      "source": [
        "def conv(matrix, filter, stride):\n",
        "\n",
        "  matrix_rows, matrix_cols = matrix.shape\n",
        "  filter_rows, filter_cols = filter.shape\n",
        "\n",
        "  output_rows = (matrix_rows - filter_rows) // stride + 1\n",
        "  output_cols = (matrix_cols - filter_cols) // stride + 1\n",
        "  output = np.zeros((output_rows, output_cols))\n",
        "\n",
        "  for i in range(0,output_rows,stride):\n",
        "    for j in range(0,output_cols,stride):\n",
        "      region = matrix[i:i+filter_rows,j:j+filter_cols]\n",
        "      output[i, j] = np.sum(region * filter)\n",
        "\n",
        "  return output\n",
        "\n",
        "def max_pool(matrix, pool_size, stride):\n",
        "  matrix_rows, matrix_cols = matrix.shape\n",
        "  output_rows = (matrix_rows - pool_size) // stride + 1\n",
        "  output_cols = (matrix_cols - pool_size) // stride + 1\n",
        "  output = np.zeros((output_rows, output_cols))\n",
        "  for i in range(0,output_rows,stride):\n",
        "    for j in range(0,output_cols,stride):\n",
        "      region = matrix[i:i+pool_size,j:j+pool_size]\n",
        "      output[i, j] = np.max(region)\n",
        "  return output\n",
        "\n",
        "filter = np.array([[1, 0, 0],\n",
        "                   [0, 1, 0],\n",
        "                   [0, 0, 1]])\n",
        "stride = 1\n",
        "a = np.random.randint(0, 2, size=(5, 5))\n",
        "output_matrix = conv(a, filter, stride)\n",
        "m_pool = max_pool(output_matrix, 2, 2)\n",
        "print(\"input matrix\\n\",a)\n",
        "print(\"\\nConvolved Matrix:\\n\", output_matrix)\n",
        "print(\"\\nMax Pooling Matrix:\\n\", m_pool)"
      ],
      "metadata": {
        "colab": {
          "base_uri": "https://localhost:8080/"
        },
        "id": "7i_EZ79McaM5",
        "outputId": "f907a3fb-988b-431a-d5b5-a496b2c193c4"
      },
      "execution_count": 49,
      "outputs": [
        {
          "output_type": "stream",
          "name": "stdout",
          "text": [
            "input matrix\n",
            " [[1 1 0 1 0]\n",
            " [0 0 0 0 1]\n",
            " [0 1 0 0 0]\n",
            " [0 1 1 0 0]\n",
            " [1 1 0 1 1]]\n",
            "\n",
            "Convolved Matrix:\n",
            " [[1. 1. 0.]\n",
            " [2. 0. 0.]\n",
            " [1. 3. 1.]]\n",
            "\n",
            "Max Pooling Matrix:\n",
            " [[2.]]\n"
          ]
        }
      ]
    },
    {
      "cell_type": "code",
      "source": [],
      "metadata": {
        "id": "vekkXGZcemaA"
      },
      "execution_count": 39,
      "outputs": []
    }
  ]
}